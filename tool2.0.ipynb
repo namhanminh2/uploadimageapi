import os
import time
import requests

def upload_image(api_url, image_path, headers=None, params=None, data=None):
    with open(image_path, 'rb') as image_file:
        files = {'image': image_file}
        response = requests.post(api_url, headers=headers, params=params, data=data, files=files)
    return response

def upload_images_in_folder(api_url, folder_path, headers=None, params=None, data=None, delay=5):
    successful_uploads = 0
    failed_files = []
    skipped_files = []

    uploaded_files = load_uploaded_files()

    try:
        for filename in os.listdir(folder_path):
            if filename.lower().endswith(('.png', '.jpg', '.jpeg', '.gif', '.bmp')):
                image_path = os.path.join(folder_path, filename)

                if filename in uploaded_files:
                    print(f'Skipping {filename}: Already uploaded.')
                    skipped_files.append(filename)
                    continue

                response = upload_image(api_url, image_path, headers, params, data)
                if response.status_code in [200, 201]:
                    successful_uploads += 1
                    print(f'Uploaded {filename} - Status Code: {response.status_code}')
                    print(f'Response: {response.json()}')
                    uploaded_files.append(filename)
                    write_uploaded_file(filename)
                    os.remove(image_path)  # Xóa ảnh sau khi upload thành công
                else:
                    print(f'Failed to upload {filename} - Status Code: {response.status_code}')
                    print(f'Error response: {response.text}')
                    failed_files.append(filename)

                time.sleep(delay)

    except KeyboardInterrupt:
        print("Interrupted by user. Exiting...")

    finally:
        write_successful_uploads(successful_uploads)
        write_failed_files(failed_files)
        write_skipped_files(skipped_files)
        print(f'Total successful uploads: {successful_uploads}')
        print(f'Failed uploads: {failed_files}')
        print(f'Skipped uploads: {skipped_files}')

def load_uploaded_files():
    filename = 'uploaded_files.txt'
    if os.path.exists(filename):
        with open(filename, 'r') as file:
            return file.read().splitlines()
    return []

def write_uploaded_file(filename):
    with open('uploaded_files.txt', 'a') as file:
        file.write(filename + '\n')

def write_successful_uploads(successful_uploads):
    log_filename = 'successful_uploads.txt'
    with open(log_filename, 'a') as log_file:
        log_file.write(f'Total successful uploads: {successful_uploads}\n')

def write_failed_files(failed_files):
    log_filename = 'failed_files.txt'
    with open(log_filename, 'a') as log_file:
        log_file.write('Failed uploads:\n')
        for file in failed_files:
            log_file.write(f'- {file}\n')

def write_skipped_files(skipped_files):
    log_filename = 'skipped_files.txt'
    with open(log_filename, 'a') as log_file:
        log_file.write('Skipped uploads:\n')
        for file in skipped_files:
            log_file.write(f'- {file}\n')

# Example usage with updated paths
api_url = 'https://api-dev.noah-group.org/api/subject/create-subject-through-image'
folder_path = r'............'
headers = {
    'authorization': '..........'
}
data = {
    'majorId': '6675e3004f81df69eccdfa2b',
    'subjectName': '..........',
    'semester': 8,
    'schoolId': '666a8b04ad6b9d3d75f22ead'
}
params = {
    'answer': 'A'
}
delay = 10

while True:
    print("Starting upload cycle...")
    upload_images_in_folder(api_url, folder_path, headers, params, data, delay)
    print("Upload cycle complete. Waiting for the next cycle...")
    time.sleep(3600)  # Lập lại mỗi giờ (3600 giây)
